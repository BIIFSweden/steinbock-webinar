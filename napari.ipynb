{
 "cells": [
  {
   "cell_type": "code",
   "execution_count": null,
   "id": "3bb82da9",
   "metadata": {},
   "outputs": [],
   "source": [
    "from pathlib import Path\n",
    "\n",
    "import napari\n",
    "import pandas as pd\n",
    "import tifffile"
   ]
  },
  {
   "cell_type": "code",
   "execution_count": null,
   "id": "55b342c4",
   "metadata": {},
   "outputs": [],
   "source": [
    "panel_file = \"data/panel.csv\"\n",
    "img_file = \"data/img/Patient4_005.tiff\"\n",
    "mask_file = \"data/masks/Patient4_005.tiff\""
   ]
  },
  {
   "cell_type": "code",
   "execution_count": null,
   "id": "a2d86b8d",
   "metadata": {},
   "outputs": [],
   "source": [
    "channel_names = None\n",
    "if Path(panel_file).exists():\n",
    "    panel = pd.read_csv(panel_file)\n",
    "    channel_names = panel.loc[panel[\"keep\"] == 1, \"name\"]\n",
    "    print(len(channel_names), \"channels\")"
   ]
  },
  {
   "cell_type": "code",
   "execution_count": null,
   "id": "ea6ce9e7",
   "metadata": {},
   "outputs": [],
   "source": [
    "img = None\n",
    "if Path(img_file).exists():\n",
    "    img = tifffile.imread(img_file)\n",
    "    print(\"Image shape:\", img.shape)"
   ]
  },
  {
   "cell_type": "code",
   "execution_count": null,
   "id": "c929c5ca",
   "metadata": {},
   "outputs": [],
   "source": [
    "mask = None\n",
    "if Path(mask_file).exists():\n",
    "    mask = tifffile.imread(mask_file)\n",
    "    print(\"Mask shape:\", mask.shape)"
   ]
  },
  {
   "cell_type": "code",
   "execution_count": null,
   "id": "b4a7697b",
   "metadata": {},
   "outputs": [],
   "source": [
    "viewer = napari.Viewer()\n",
    "\n",
    "viewer.axes.visible = True\n",
    "viewer.dims.axis_labels = (\"y\", \"x\")\n",
    "\n",
    "viewer.scale_bar.visible = True\n",
    "viewer.scale_bar.unit = \"um\"\n",
    "\n",
    "if img is not None:\n",
    "    img_layers = viewer.add_image(\n",
    "        data=img,\n",
    "        channel_axis=0,\n",
    "        colormap=\"gray\",\n",
    "        name=channel_names,\n",
    "        blending=\"additive\",\n",
    "        visible=False,\n",
    "    )\n",
    "\n",
    "if mask is not None:\n",
    "    mask_layer = viewer.add_labels(\n",
    "        data=mask,\n",
    "        name=\"Cells\",\n",
    "        blending=\"translucent\",\n",
    "        visible=False,\n",
    "    )"
   ]
  }
 ],
 "metadata": {
  "kernelspec": {
   "display_name": "Python 3 (ipykernel)",
   "language": "python",
   "name": "python3"
  },
  "language_info": {
   "codemirror_mode": {
    "name": "ipython",
    "version": 3
   },
   "file_extension": ".py",
   "mimetype": "text/x-python",
   "name": "python",
   "nbconvert_exporter": "python",
   "pygments_lexer": "ipython3",
   "version": "3.11.4"
  }
 },
 "nbformat": 4,
 "nbformat_minor": 5
}
