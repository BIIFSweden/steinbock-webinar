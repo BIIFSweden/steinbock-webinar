{
 "cells": [
  {
   "cell_type": "markdown",
   "id": "3a061e6d",
   "metadata": {
    "slideshow": {
     "slide_type": "slide"
    }
   },
   "source": [
    "# Processing multiplexed tissue images using steinbock\n",
    "\n",
    "Imaging mass cytometry (IMC) example data: https://zenodo.org/record/7575859\n",
    "\n",
    "Example output generated using _steinbock_: https://zenodo.org/record/6043600"
   ]
  },
  {
   "cell_type": "markdown",
   "id": "543d848f",
   "metadata": {
    "slideshow": {
     "slide_type": "slide"
    }
   },
   "source": [
    "## Data download\n",
    "\n",
    "<div class=\"alert alert-block alert-warning\">\n",
    "    <b>Warning:</b> platform-dependent (here: Mac OS/Linux)\n",
    "</div>"
   ]
  },
  {
   "cell_type": "markdown",
   "id": "c940e09d",
   "metadata": {
    "slideshow": {
     "slide_type": "-"
    }
   },
   "source": [
    "**Create directory structure**:"
   ]
  },
  {
   "cell_type": "code",
   "execution_count": null,
   "id": "6b7243f5",
   "metadata": {
    "slideshow": {
     "slide_type": "-"
    }
   },
   "outputs": [],
   "source": [
    "mkdir -p data/raw"
   ]
  },
  {
   "cell_type": "markdown",
   "id": "af2009ab",
   "metadata": {
    "slideshow": {
     "slide_type": "-"
    }
   },
   "source": [
    "**Download IMC example data**:"
   ]
  },
  {
   "cell_type": "code",
   "execution_count": null,
   "id": "9819b7a1",
   "metadata": {
    "slideshow": {
     "slide_type": "-"
    }
   },
   "outputs": [],
   "source": [
    "curl https://zenodo.org/record/7575859/files/Patient1.zip > data/raw/Patient1.zip\n",
    "curl https://zenodo.org/record/7575859/files/Patient2.zip > data/raw/Patient2.zip\n",
    "curl https://zenodo.org/record/7575859/files/Patient3.zip > data/raw/Patient3.zip\n",
    "curl https://zenodo.org/record/7575859/files/Patient4.zip > data/raw/Patient4.zip"
   ]
  },
  {
   "cell_type": "markdown",
   "id": "3ab4f4f1",
   "metadata": {
    "slideshow": {
     "slide_type": "-"
    }
   },
   "source": [
    "**Download panel file** in _steinbock_ format:  \n",
    "https://bodenmillergroup.github.io/steinbock/latest/file-types/#panel"
   ]
  },
  {
   "cell_type": "code",
   "execution_count": null,
   "id": "0f6e13a7",
   "metadata": {
    "slideshow": {
     "slide_type": "-"
    }
   },
   "outputs": [],
   "source": [
    "curl https://zenodo.org/record/6043600/files/panel.csv > data/panel.csv"
   ]
  },
  {
   "cell_type": "markdown",
   "id": "f2b750c5",
   "metadata": {
    "slideshow": {
     "slide_type": "slide"
    }
   },
   "source": [
    "## steinbock configuration\n",
    "\n",
    "<div class=\"alert alert-block alert-warning\">\n",
    "    <b>Warning:</b> platform-dependent, see <a href=\"https://bodenmillergroup.github.io/steinbock/latest/install-docker/\">steinbock online documentation</a>\n",
    "</div>"
   ]
  },
  {
   "cell_type": "markdown",
   "id": "1a8f3029",
   "metadata": {
    "slideshow": {
     "slide_type": "-"
    }
   },
   "source": [
    "**Create a `steinbock` command alias**:"
   ]
  },
  {
   "cell_type": "code",
   "execution_count": 1,
   "id": "b9908b8e",
   "metadata": {
    "slideshow": {
     "slide_type": "-"
    }
   },
   "outputs": [],
   "source": [
    "alias steinbock=\"docker run -v ./data:/data -u $(id -u):$(id -g) ghcr.io/bodenmillergroup/steinbock:0.16.1\""
   ]
  },
  {
   "cell_type": "markdown",
   "id": "f7512b7d",
   "metadata": {
    "slideshow": {
     "slide_type": "subslide"
    }
   },
   "source": [
    "**Run `steinbock`** (download if necessary):"
   ]
  },
  {
   "cell_type": "code",
   "execution_count": 2,
   "id": "d1bb590b",
   "metadata": {
    "slideshow": {
     "slide_type": "-"
    }
   },
   "outputs": [
    {
     "name": "stdout",
     "output_type": "stream",
     "text": [
      "Usage: steinbock [OPTIONS] COMMAND [ARGS]...\n",
      "\n",
      "Options:\n",
      "  --version  Show the version and exit.\n",
      "  --help     Show this message and exit.\n",
      "\n",
      "Commands:\n",
      "  preprocess  Extract and preprocess images from raw data\n",
      "  classify    Perform pixel classification to extract probabilities\n",
      "  segment     Perform image segmentation to create object masks\n",
      "  measure     Extract object data from segmented images\n",
      "  export      Export data to third-party formats\n",
      "  utils       Various utilities and tools\n",
      "  view        View image using napari GUI\n",
      "  apps        Third-party applications\n"
     ]
    }
   ],
   "source": [
    "steinbock"
   ]
  },
  {
   "cell_type": "markdown",
   "id": "d9bd8564",
   "metadata": {
    "slideshow": {
     "slide_type": "slide"
    }
   },
   "source": [
    "## Data pre-processing"
   ]
  },
  {
   "cell_type": "markdown",
   "id": "42593588",
   "metadata": {
    "slideshow": {
     "slide_type": "-"
    }
   },
   "source": [
    "**Convert raw IMC data to TIFF** and remove hot pixels:"
   ]
  },
  {
   "cell_type": "code",
   "execution_count": 3,
   "id": "2562836c",
   "metadata": {
    "slideshow": {
     "slide_type": "-"
    }
   },
   "outputs": [
    {
     "name": "stdout",
     "output_type": "stream",
     "text": [
      "2023-06-14 15:08:05,607 INFO steinbock - img/Patient4_005.tiff\n",
      "2023-06-14 15:08:06,310 INFO steinbock - img/Patient4_006.tiff\n",
      "2023-06-14 15:08:07,051 INFO steinbock - img/Patient4_007.tiff\n",
      "2023-06-14 15:08:07,735 INFO steinbock - img/Patient4_008.tiff\n",
      "2023-06-14 15:08:10,999 INFO steinbock - img/Patient3_001.tiff\n",
      "2023-06-14 15:08:11,734 INFO steinbock - img/Patient3_002.tiff\n",
      "2023-06-14 15:08:12,462 INFO steinbock - img/Patient3_003.tiff\n",
      "2023-06-14 15:08:15,581 INFO steinbock - img/Patient2_001.tiff\n",
      "2023-06-14 15:08:16,318 INFO steinbock - img/Patient2_002.tiff\n",
      "2023-06-14 15:08:17,062 INFO steinbock - img/Patient2_003.tiff\n",
      "2023-06-14 15:08:17,846 INFO steinbock - img/Patient2_004.tiff\n",
      "2023-06-14 15:08:20,782 INFO steinbock - img/Patient1_001.tiff\n",
      "2023-06-14 15:08:21,645 INFO steinbock - img/Patient1_002.tiff\n",
      "2023-06-14 15:08:22,457 INFO steinbock - img/Patient1_003.tiff\n",
      "2023-06-14 15:08:22,514 INFO steinbock - images.csv\n"
     ]
    }
   ],
   "source": [
    "steinbock preprocess imc images --hpf 50"
   ]
  },
  {
   "cell_type": "markdown",
   "id": "18ec7eb0",
   "metadata": {
    "slideshow": {
     "slide_type": "slide"
    }
   },
   "source": [
    "## Image segmentation"
   ]
  },
  {
   "cell_type": "markdown",
   "id": "17985bfe",
   "metadata": {
    "slideshow": {
     "slide_type": "-"
    }
   },
   "source": [
    "<b>Generate cell masks*</b> using Mesmer ([Greenwald et al. 2021](https://www.nature.com/articles/s41587-021-01094-0)):  \n",
    "\\* Grayscale images in which pixels corresponding to the same cell share the same pixel value"
   ]
  },
  {
   "cell_type": "code",
   "execution_count": 4,
   "id": "51b8bf11",
   "metadata": {
    "slideshow": {
     "slide_type": "-"
    }
   },
   "outputs": [
    {
     "name": "stdout",
     "output_type": "stream",
     "text": [
      "2023-06-14 15:08:46,759 INFO steinbock - masks/Patient1_001.tiff\n",
      "2023-06-14 15:08:56,664 INFO steinbock - masks/Patient1_002.tiff\n",
      "2023-06-14 15:09:06,764 INFO steinbock - masks/Patient1_003.tiff\n",
      "2023-06-14 15:09:16,570 INFO steinbock - masks/Patient2_001.tiff\n",
      "2023-06-14 15:09:26,363 INFO steinbock - masks/Patient2_002.tiff\n",
      "2023-06-14 15:09:36,402 INFO steinbock - masks/Patient2_003.tiff\n",
      "2023-06-14 15:09:47,075 INFO steinbock - masks/Patient2_004.tiff\n",
      "2023-06-14 15:09:57,722 INFO steinbock - masks/Patient3_001.tiff\n",
      "2023-06-14 15:10:07,998 INFO steinbock - masks/Patient3_002.tiff\n",
      "2023-06-14 15:10:18,325 INFO steinbock - masks/Patient3_003.tiff\n",
      "2023-06-14 15:10:28,274 INFO steinbock - masks/Patient4_005.tiff\n",
      "2023-06-14 15:10:38,820 INFO steinbock - masks/Patient4_006.tiff\n",
      "2023-06-14 15:10:48,696 INFO steinbock - masks/Patient4_007.tiff\n",
      "2023-06-14 15:10:58,520 INFO steinbock - masks/Patient4_008.tiff\n"
     ]
    }
   ],
   "source": [
    "steinbock segment deepcell --app mesmer --minmax"
   ]
  },
  {
   "cell_type": "markdown",
   "id": "0e225d9c",
   "metadata": {
    "slideshow": {
     "slide_type": "slide"
    }
   },
   "source": [
    "## Feature extraction"
   ]
  },
  {
   "cell_type": "markdown",
   "id": "a7e02099",
   "metadata": {
    "slideshow": {
     "slide_type": "-"
    }
   },
   "source": [
    "<b>Aggregate\\* pixel intensities</b> per cell and channel:  \n",
    "\\* Default aggregation strategy: mean"
   ]
  },
  {
   "cell_type": "code",
   "execution_count": 5,
   "id": "a981eeba",
   "metadata": {
    "scrolled": true,
    "slideshow": {
     "slide_type": "-"
    }
   },
   "outputs": [
    {
     "name": "stdout",
     "output_type": "stream",
     "text": [
      "2023-06-14 15:11:02,935 INFO steinbock - intensities/Patient1_001.csv\n",
      "2023-06-14 15:11:03,310 INFO steinbock - intensities/Patient1_002.csv\n",
      "2023-06-14 15:11:03,678 INFO steinbock - intensities/Patient1_003.csv\n",
      "2023-06-14 15:11:04,014 INFO steinbock - intensities/Patient2_001.csv\n",
      "2023-06-14 15:11:04,363 INFO steinbock - intensities/Patient2_002.csv\n",
      "2023-06-14 15:11:04,653 INFO steinbock - intensities/Patient2_003.csv\n",
      "2023-06-14 15:11:05,023 INFO steinbock - intensities/Patient2_004.csv\n",
      "2023-06-14 15:11:05,395 INFO steinbock - intensities/Patient3_001.csv\n",
      "2023-06-14 15:11:05,777 INFO steinbock - intensities/Patient3_002.csv\n",
      "2023-06-14 15:11:06,141 INFO steinbock - intensities/Patient3_003.csv\n",
      "2023-06-14 15:11:06,440 INFO steinbock - intensities/Patient4_005.csv\n",
      "2023-06-14 15:11:06,839 INFO steinbock - intensities/Patient4_006.csv\n",
      "2023-06-14 15:11:07,167 INFO steinbock - intensities/Patient4_007.csv\n",
      "2023-06-14 15:11:07,471 INFO steinbock - intensities/Patient4_008.csv\n"
     ]
    }
   ],
   "source": [
    "steinbock measure intensities"
   ]
  },
  {
   "cell_type": "markdown",
   "id": "0924ba84",
   "metadata": {
    "slideshow": {
     "slide_type": "subslide"
    }
   },
   "source": [
    "<b>Compute default region properties\\*</b> per cell:  \n",
    "\\* Area, centroid, major_axis_length, minor_axis_length, eccentricity"
   ]
  },
  {
   "cell_type": "code",
   "execution_count": 6,
   "id": "5c2db78f",
   "metadata": {
    "slideshow": {
     "slide_type": "-"
    }
   },
   "outputs": [
    {
     "name": "stdout",
     "output_type": "stream",
     "text": [
      "2023-06-14 15:11:11,155 INFO steinbock - regionprops/Patient1_001.csv\n",
      "2023-06-14 15:11:11,915 INFO steinbock - regionprops/Patient1_002.csv\n",
      "2023-06-14 15:11:12,837 INFO steinbock - regionprops/Patient1_003.csv\n",
      "2023-06-14 15:11:13,597 INFO steinbock - regionprops/Patient2_001.csv\n",
      "2023-06-14 15:11:14,346 INFO steinbock - regionprops/Patient2_002.csv\n",
      "2023-06-14 15:11:15,027 INFO steinbock - regionprops/Patient2_003.csv\n",
      "2023-06-14 15:11:15,933 INFO steinbock - regionprops/Patient2_004.csv\n",
      "2023-06-14 15:11:16,837 INFO steinbock - regionprops/Patient3_001.csv\n",
      "2023-06-14 15:11:17,678 INFO steinbock - regionprops/Patient3_002.csv\n",
      "2023-06-14 15:11:18,550 INFO steinbock - regionprops/Patient3_003.csv\n",
      "2023-06-14 15:11:19,200 INFO steinbock - regionprops/Patient4_005.csv\n",
      "2023-06-14 15:11:20,270 INFO steinbock - regionprops/Patient4_006.csv\n",
      "2023-06-14 15:11:21,007 INFO steinbock - regionprops/Patient4_007.csv\n",
      "2023-06-14 15:11:21,667 INFO steinbock - regionprops/Patient4_008.csv\n"
     ]
    }
   ],
   "source": [
    "steinbock measure regionprops"
   ]
  },
  {
   "cell_type": "markdown",
   "id": "693a1618",
   "metadata": {
    "slideshow": {
     "slide_type": "subslide"
    }
   },
   "source": [
    "<b>Construct spatial cell graphs\\*</b>:  \n",
    "\\* Graphs in which nodes represent cells and cells in spatial proximity are connected by an edge"
   ]
  },
  {
   "cell_type": "code",
   "execution_count": 7,
   "id": "3fea98f9",
   "metadata": {
    "slideshow": {
     "slide_type": "-"
    }
   },
   "outputs": [
    {
     "name": "stdout",
     "output_type": "stream",
     "text": [
      "2023-06-14 15:11:27,919 INFO steinbock - neighbors/Patient1_001.csv\n",
      "2023-06-14 15:11:31,236 INFO steinbock - neighbors/Patient1_002.csv\n",
      "2023-06-14 15:11:35,090 INFO steinbock - neighbors/Patient1_003.csv\n",
      "2023-06-14 15:11:38,257 INFO steinbock - neighbors/Patient2_001.csv\n",
      "2023-06-14 15:11:41,473 INFO steinbock - neighbors/Patient2_002.csv\n",
      "2023-06-14 15:11:44,097 INFO steinbock - neighbors/Patient2_003.csv\n",
      "2023-06-14 15:11:47,994 INFO steinbock - neighbors/Patient2_004.csv\n",
      "2023-06-14 15:11:51,799 INFO steinbock - neighbors/Patient3_001.csv\n",
      "2023-06-14 15:11:55,208 INFO steinbock - neighbors/Patient3_002.csv\n",
      "2023-06-14 15:11:59,210 INFO steinbock - neighbors/Patient3_003.csv\n",
      "2023-06-14 15:12:02,058 INFO steinbock - neighbors/Patient4_005.csv\n",
      "2023-06-14 15:12:06,301 INFO steinbock - neighbors/Patient4_006.csv\n",
      "2023-06-14 15:12:09,266 INFO steinbock - neighbors/Patient4_007.csv\n",
      "2023-06-14 15:12:12,011 INFO steinbock - neighbors/Patient4_008.csv\n"
     ]
    }
   ],
   "source": [
    "steinbock measure neighbors --type expansion --dmax 4"
   ]
  },
  {
   "cell_type": "markdown",
   "id": "070e15f7",
   "metadata": {
    "slideshow": {
     "slide_type": "slide"
    }
   },
   "source": [
    "## Data export"
   ]
  },
  {
   "cell_type": "markdown",
   "id": "7959e6d3",
   "metadata": {
    "slideshow": {
     "slide_type": "-"
    }
   },
   "source": [
    "**Concatenate images** (along rows) **and intensities/regionprops** (along columns):"
   ]
  },
  {
   "cell_type": "code",
   "execution_count": 8,
   "id": "4e9ce520",
   "metadata": {
    "slideshow": {
     "slide_type": "-"
    }
   },
   "outputs": [
    {
     "name": "stdout",
     "output_type": "stream",
     "text": [
      "2023-06-14 15:12:19,497 INFO steinbock - cells.csv\n"
     ]
    }
   ],
   "source": [
    "steinbock export csv -o cells.csv intensities regionprops"
   ]
  },
  {
   "cell_type": "markdown",
   "id": "342749d0",
   "metadata": {
    "slideshow": {
     "slide_type": "subslide"
    }
   },
   "source": [
    "**Concatenate and export data as [anndata](https://anndata.readthedocs.io) object** for downstream processing in Python:"
   ]
  },
  {
   "cell_type": "code",
   "execution_count": 9,
   "id": "d1a3cf9f",
   "metadata": {
    "slideshow": {
     "slide_type": "-"
    }
   },
   "outputs": [
    {
     "name": "stdout",
     "output_type": "stream",
     "text": [
      "2023-06-14 15:12:22,277 WARNING steinbock - The anndata package currently does not support on-disk; all files will be loaded into memory\n",
      "2023-06-14 15:12:27,787 INFO steinbock - cells.h5ad\n"
     ]
    }
   ],
   "source": [
    "steinbock export anndata -o cells.h5ad --intensities intensities --data regionprops --neighbors neighbors"
   ]
  },
  {
   "cell_type": "markdown",
   "id": "254a83ec",
   "metadata": {
    "slideshow": {
     "slide_type": "subslide"
    }
   },
   "source": [
    "**Convert neighbors** (edge lists) **to attributed spatial cell graphs** for downstream analysis:"
   ]
  },
  {
   "cell_type": "code",
   "execution_count": 10,
   "id": "e8303cb3",
   "metadata": {
    "slideshow": {
     "slide_type": "-"
    }
   },
   "outputs": [
    {
     "name": "stdout",
     "output_type": "stream",
     "text": [
      "2023-06-14 15:12:32,923 INFO steinbock - graphs/Patient1_001.graphml\n",
      "2023-06-14 15:12:34,821 INFO steinbock - graphs/Patient1_002.graphml\n",
      "2023-06-14 15:12:37,339 INFO steinbock - graphs/Patient1_003.graphml\n",
      "2023-06-14 15:12:39,403 INFO steinbock - graphs/Patient2_001.graphml\n",
      "2023-06-14 15:12:41,138 INFO steinbock - graphs/Patient2_002.graphml\n",
      "2023-06-14 15:12:42,589 INFO steinbock - graphs/Patient2_003.graphml\n",
      "2023-06-14 15:12:44,805 INFO steinbock - graphs/Patient2_004.graphml\n",
      "2023-06-14 15:12:47,205 INFO steinbock - graphs/Patient3_001.graphml\n",
      "2023-06-14 15:12:48,944 INFO steinbock - graphs/Patient3_002.graphml\n",
      "2023-06-14 15:12:51,071 INFO steinbock - graphs/Patient3_003.graphml\n",
      "2023-06-14 15:12:52,984 INFO steinbock - graphs/Patient4_005.graphml\n",
      "2023-06-14 15:12:55,646 INFO steinbock - graphs/Patient4_006.graphml\n",
      "2023-06-14 15:12:57,779 INFO steinbock - graphs/Patient4_007.graphml\n",
      "2023-06-14 15:12:59,471 INFO steinbock - graphs/Patient4_008.graphml\n"
     ]
    }
   ],
   "source": [
    "steinbock export graphs --format graphml --data intensities --data regionprops"
   ]
  }
 ],
 "metadata": {
  "celltoolbar": "Slideshow",
  "kernelspec": {
   "display_name": "Bash",
   "language": "bash",
   "name": "bash"
  },
  "language_info": {
   "codemirror_mode": "shell",
   "file_extension": ".sh",
   "mimetype": "text/x-sh",
   "name": "bash"
  }
 },
 "nbformat": 4,
 "nbformat_minor": 5
}
